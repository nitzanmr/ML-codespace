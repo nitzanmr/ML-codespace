{
 "cells": [
  {
   "cell_type": "code",
   "execution_count": 430,
   "metadata": {},
   "outputs": [],
   "source": [
    "import numpy as np\n",
    "from sklearn.linear_model import LogisticRegression\n",
    "from sklearn import preprocessing\n",
    "from sklearn.model_selection import train_test_split\n",
    "from sklearn.metrics import confusion_matrix"
   ]
  },
  {
   "cell_type": "code",
   "execution_count": 440,
   "metadata": {},
   "outputs": [],
   "source": [
    "X = np.loadtxt(open(\"ex2_x_data.csv\", \"rb\"), delimiter=\",\")\n",
    "Y = np.loadtxt(open(\"ex2_y_data.csv\", \"rb\"), delimiter=\",\")"
   ]
  },
  {
   "cell_type": "code",
   "execution_count": 441,
   "metadata": {},
   "outputs": [],
   "source": [
    "X_train, X_test, y_train, y_test = train_test_split(X, Y, test_size=0.33, random_state=42)"
   ]
  },
  {
   "cell_type": "code",
   "execution_count": 442,
   "metadata": {},
   "outputs": [],
   "source": [
    "scaler = preprocessing.StandardScaler().fit(X_train)\n",
    "X_train = scaler.transform(X_train)\n",
    "X_test = scaler.transform(X_test)"
   ]
  },
  {
   "cell_type": "code",
   "execution_count": 448,
   "metadata": {},
   "outputs": [],
   "source": [
    "models = np.empty((10, 1), dtype=object)\n",
    "weights = {\n",
    "    0:0.05,\n",
    "    1:0.55,\n",
    "    2:0.05,\n",
    "    3:0.05,\n",
    "    4:0.05,\n",
    "    5:0.05,\n",
    "    6:0.05,\n",
    "    7:0.05,\n",
    "    8:0.05,\n",
    "    9:0.05,\n",
    "}\n",
    "for i in range(10):\n",
    "    y_train_i = np.copy(y_train)\n",
    "    y_train_i[y_train != i] = 0\n",
    "    y_train_i[y_train == i] = 1\n",
    "    models[i, 0] = LogisticRegression(fit_intercept=True, max_iter=100, n_jobs=-1, C=0.005, penalty='l2', class_weight=weights).fit(X_train, y_train_i)"
   ]
  },
  {
   "cell_type": "code",
   "execution_count": 449,
   "metadata": {},
   "outputs": [],
   "source": [
    "y_pred = np.zeros((y_test.size, 10))\n",
    "for i in range(10):\n",
    "    y = models[i, 0].predict_proba(X_test)\n",
    "    y_pred[:, i] = y[:, -1]\n",
    "test_class_pred = np.zeros((y_test.size))\n",
    "for i in range (y_test.size):\n",
    "    test_class_pred[i] = np.argmax(y_pred[i, :])"
   ]
  },
  {
   "cell_type": "code",
   "execution_count": 450,
   "metadata": {},
   "outputs": [],
   "source": [
    "y_pred = np.zeros((y_train.size, 10))\n",
    "for i in range(10):\n",
    "    y = models[i, 0].predict_proba(X_train)\n",
    "    y_pred[:, i] = y[:, -1]\n",
    "train_class_pred = np.zeros((y_train.size))\n",
    "for i in range (y_train.size):\n",
    "    train_class_pred[i] = np.argmax(y_pred[i, :])"
   ]
  },
  {
   "cell_type": "code",
   "execution_count": 451,
   "metadata": {},
   "outputs": [
    {
     "name": "stdout",
     "output_type": "stream",
     "text": [
      "[[53  0  0  0  0  1  1  0  0  0]\n",
      " [ 0 35  9  0  0  0  0  0  7  4]\n",
      " [ 0  3 45  2  0  0  0  0  2  0]\n",
      " [ 0  0  3 48  0  0  0  1  2  2]\n",
      " [ 0  4  0  0 54  1  3  2  0  0]\n",
      " [ 0  1  1  1  1 54  1  1  0 13]\n",
      " [ 0  0  0  0  1  0 55  0  1  0]\n",
      " [ 0  0  1  0  0  0  0 60  1  0]\n",
      " [ 0  5  1  1  0  1  3  1 38  2]\n",
      " [ 0  1  2  6  1  1  0  1  4 52]]\n",
      "[[122   0   0   0   1   0   0   0   0   0]\n",
      " [  0 105   4   0   0   2   3   2   3   8]\n",
      " [  1   5 112   2   0   0   0   1   4   0]\n",
      " [  0   1   1 112   0   3   1   2   2   5]\n",
      " [  0   6   0   0 104   1   0   3   3   0]\n",
      " [  0   1   0   5   1  88   0   2   3   9]\n",
      " [  1   4   0   0   0   0 117   0   2   0]\n",
      " [  0   0   0   0   1   1   0 114   1   0]\n",
      " [  0  11   1   6   1   2   1   3  95   2]\n",
      " [  0   3   0  14   1   2   0   5   2  85]]\n"
     ]
    }
   ],
   "source": [
    "testconMat = confusion_matrix(y_test, test_class_pred)\n",
    "trainconMat = confusion_matrix(y_train, train_class_pred)\n",
    "print(testconMat)\n",
    "print(trainconMat)"
   ]
  },
  {
   "cell_type": "code",
   "execution_count": 452,
   "metadata": {},
   "outputs": [
    {
     "name": "stdout",
     "output_type": "stream",
     "text": [
      "\n",
      "i precision: \n",
      " [1.         0.71428571 0.72580645 0.82758621 0.94736842 0.93103448\n",
      " 0.87301587 0.90909091 0.69090909 0.71232877]\n",
      "\n",
      "i recall: \n",
      " [0.96363636 0.63636364 0.86538462 0.85714286 0.84375    0.73972603\n",
      " 0.96491228 0.96774194 0.73076923 0.76470588]\n",
      "\n",
      "total precision:  0.8331425916745582\n",
      "total recall:  0.833413282923253\n",
      "acc:  0.8316498316498316\n"
     ]
    }
   ],
   "source": [
    "precision = np.zeros((10))\n",
    "recall = np.zeros((10))\n",
    "acc = 0\n",
    "for i in range(10):\n",
    "    precision[i] = testconMat[i, i] / np.sum(testconMat[:, i])\n",
    "    recall[i] = testconMat[i, i] / np.sum(testconMat[i, :])\n",
    "    acc += testconMat[i, i]\n",
    "print(\"\\ni precision: \\n\", precision)\n",
    "print(\"\\ni recall: \\n\", recall)\n",
    "print(\"\\ntotal precision: \", np.mean(precision))\n",
    "print(\"total recall: \", np.mean(recall))\n",
    "print(\"acc: \", acc / np.sum(np.sum(testconMat)))"
   ]
  },
  {
   "cell_type": "code",
   "execution_count": 453,
   "metadata": {},
   "outputs": [
    {
     "name": "stdout",
     "output_type": "stream",
     "text": [
      "\n",
      "i precision: \n",
      " [0.98387097 0.77205882 0.94915254 0.8057554  0.95412844 0.88888889\n",
      " 0.95901639 0.86363636 0.82608696 0.77981651]\n",
      "\n",
      "i recall: \n",
      " [0.99186992 0.82677165 0.896      0.88188976 0.88888889 0.80733945\n",
      " 0.94354839 0.97435897 0.77868852 0.75892857]\n",
      "\n",
      "total precision:  0.8782411285945736\n",
      "total recall:  0.8748284131926679\n",
      "acc:  0.8761429758935994\n"
     ]
    }
   ],
   "source": [
    "precision = np.zeros((10))\n",
    "recall = np.zeros((10))\n",
    "acc = 0\n",
    "for i in range(10):\n",
    "    precision[i] = trainconMat[i, i] / np.sum(trainconMat[:, i])\n",
    "    recall[i] = trainconMat[i, i] / np.sum(trainconMat[i, :])\n",
    "    acc += trainconMat[i, i]\n",
    "print(\"\\ni precision: \\n\", precision)\n",
    "print(\"\\ni recall: \\n\", recall)\n",
    "print(\"\\ntotal precision: \", np.mean(precision))\n",
    "print(\"total recall: \", np.mean(recall))\n",
    "print(\"acc: \", acc / np.sum(np.sum(trainconMat)))"
   ]
  }
 ],
 "metadata": {
  "kernelspec": {
   "display_name": "Python 3",
   "language": "python",
   "name": "python3"
  },
  "language_info": {
   "codemirror_mode": {
    "name": "ipython",
    "version": 3
   },
   "file_extension": ".py",
   "mimetype": "text/x-python",
   "name": "python",
   "nbconvert_exporter": "python",
   "pygments_lexer": "ipython3",
   "version": "3.10.11"
  },
  "orig_nbformat": 4
 },
 "nbformat": 4,
 "nbformat_minor": 2
}
