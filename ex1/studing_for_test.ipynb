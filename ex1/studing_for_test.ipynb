{
 "cells": [
  {
   "cell_type": "code",
   "execution_count": 1,
   "metadata": {},
   "outputs": [],
   "source": [
    "import numpy as np\n",
    "import pandas as pd"
   ]
  },
  {
   "cell_type": "code",
   "execution_count": 83,
   "metadata": {},
   "outputs": [
    {
     "name": "stdout",
     "output_type": "stream",
     "text": [
      "10\n"
     ]
    },
    {
     "ename": "KeyError",
     "evalue": "0",
     "output_type": "error",
     "traceback": [
      "\u001b[1;31m---------------------------------------------------------------------------\u001b[0m",
      "\u001b[1;31mKeyError\u001b[0m                                  Traceback (most recent call last)",
      "File \u001b[1;32m~\\AppData\\Local\\Packages\\PythonSoftwareFoundation.Python.3.11_qbz5n2kfra8p0\\LocalCache\\local-packages\\Python311\\site-packages\\pandas\\core\\indexes\\base.py:3653\u001b[0m, in \u001b[0;36mIndex.get_loc\u001b[1;34m(self, key)\u001b[0m\n\u001b[0;32m   3652\u001b[0m \u001b[39mtry\u001b[39;00m:\n\u001b[1;32m-> 3653\u001b[0m     \u001b[39mreturn\u001b[39;00m \u001b[39mself\u001b[39;49m\u001b[39m.\u001b[39;49m_engine\u001b[39m.\u001b[39;49mget_loc(casted_key)\n\u001b[0;32m   3654\u001b[0m \u001b[39mexcept\u001b[39;00m \u001b[39mKeyError\u001b[39;00m \u001b[39mas\u001b[39;00m err:\n",
      "File \u001b[1;32m~\\AppData\\Local\\Packages\\PythonSoftwareFoundation.Python.3.11_qbz5n2kfra8p0\\LocalCache\\local-packages\\Python311\\site-packages\\pandas\\_libs\\index.pyx:147\u001b[0m, in \u001b[0;36mpandas._libs.index.IndexEngine.get_loc\u001b[1;34m()\u001b[0m\n",
      "File \u001b[1;32m~\\AppData\\Local\\Packages\\PythonSoftwareFoundation.Python.3.11_qbz5n2kfra8p0\\LocalCache\\local-packages\\Python311\\site-packages\\pandas\\_libs\\index.pyx:176\u001b[0m, in \u001b[0;36mpandas._libs.index.IndexEngine.get_loc\u001b[1;34m()\u001b[0m\n",
      "File \u001b[1;32mpandas\\_libs\\hashtable_class_helper.pxi:7080\u001b[0m, in \u001b[0;36mpandas._libs.hashtable.PyObjectHashTable.get_item\u001b[1;34m()\u001b[0m\n",
      "File \u001b[1;32mpandas\\_libs\\hashtable_class_helper.pxi:7088\u001b[0m, in \u001b[0;36mpandas._libs.hashtable.PyObjectHashTable.get_item\u001b[1;34m()\u001b[0m\n",
      "\u001b[1;31mKeyError\u001b[0m: 0",
      "\nThe above exception was the direct cause of the following exception:\n",
      "\u001b[1;31mKeyError\u001b[0m                                  Traceback (most recent call last)",
      "Cell \u001b[1;32mIn[83], line 6\u001b[0m\n\u001b[0;32m      4\u001b[0m \u001b[39mprint\u001b[39m(np_data\u001b[39m.\u001b[39mshape[\u001b[39m0\u001b[39m])\n\u001b[0;32m      5\u001b[0m \u001b[39mfor\u001b[39;00m i \u001b[39min\u001b[39;00m \u001b[39mrange\u001b[39m(np_data\u001b[39m.\u001b[39mshape[\u001b[39m1\u001b[39m]):\n\u001b[1;32m----> 6\u001b[0m     \u001b[39mprint\u001b[39m(data\u001b[39m.\u001b[39;49mloc[i])\n\u001b[0;32m      7\u001b[0m     \u001b[39mprint\u001b[39m(np_data)\n\u001b[0;32m      8\u001b[0m     \u001b[39m# print(((data[i]-min(data[i]))/(max(data[i]) - min(data[i]))).shape)\u001b[39;00m\n\u001b[0;32m      9\u001b[0m     \u001b[39m# print(data)\u001b[39;00m\n",
      "File \u001b[1;32m~\\AppData\\Local\\Packages\\PythonSoftwareFoundation.Python.3.11_qbz5n2kfra8p0\\LocalCache\\local-packages\\Python311\\site-packages\\pandas\\core\\indexing.py:1103\u001b[0m, in \u001b[0;36m_LocationIndexer.__getitem__\u001b[1;34m(self, key)\u001b[0m\n\u001b[0;32m   1100\u001b[0m axis \u001b[39m=\u001b[39m \u001b[39mself\u001b[39m\u001b[39m.\u001b[39maxis \u001b[39mor\u001b[39;00m \u001b[39m0\u001b[39m\n\u001b[0;32m   1102\u001b[0m maybe_callable \u001b[39m=\u001b[39m com\u001b[39m.\u001b[39mapply_if_callable(key, \u001b[39mself\u001b[39m\u001b[39m.\u001b[39mobj)\n\u001b[1;32m-> 1103\u001b[0m \u001b[39mreturn\u001b[39;00m \u001b[39mself\u001b[39;49m\u001b[39m.\u001b[39;49m_getitem_axis(maybe_callable, axis\u001b[39m=\u001b[39;49maxis)\n",
      "File \u001b[1;32m~\\AppData\\Local\\Packages\\PythonSoftwareFoundation.Python.3.11_qbz5n2kfra8p0\\LocalCache\\local-packages\\Python311\\site-packages\\pandas\\core\\indexing.py:1343\u001b[0m, in \u001b[0;36m_LocIndexer._getitem_axis\u001b[1;34m(self, key, axis)\u001b[0m\n\u001b[0;32m   1341\u001b[0m \u001b[39m# fall thru to straight lookup\u001b[39;00m\n\u001b[0;32m   1342\u001b[0m \u001b[39mself\u001b[39m\u001b[39m.\u001b[39m_validate_key(key, axis)\n\u001b[1;32m-> 1343\u001b[0m \u001b[39mreturn\u001b[39;00m \u001b[39mself\u001b[39;49m\u001b[39m.\u001b[39;49m_get_label(key, axis\u001b[39m=\u001b[39;49maxis)\n",
      "File \u001b[1;32m~\\AppData\\Local\\Packages\\PythonSoftwareFoundation.Python.3.11_qbz5n2kfra8p0\\LocalCache\\local-packages\\Python311\\site-packages\\pandas\\core\\indexing.py:1293\u001b[0m, in \u001b[0;36m_LocIndexer._get_label\u001b[1;34m(self, label, axis)\u001b[0m\n\u001b[0;32m   1291\u001b[0m \u001b[39mdef\u001b[39;00m \u001b[39m_get_label\u001b[39m(\u001b[39mself\u001b[39m, label, axis: AxisInt):\n\u001b[0;32m   1292\u001b[0m     \u001b[39m# GH#5567 this will fail if the label is not present in the axis.\u001b[39;00m\n\u001b[1;32m-> 1293\u001b[0m     \u001b[39mreturn\u001b[39;00m \u001b[39mself\u001b[39;49m\u001b[39m.\u001b[39;49mobj\u001b[39m.\u001b[39;49mxs(label, axis\u001b[39m=\u001b[39;49maxis)\n",
      "File \u001b[1;32m~\\AppData\\Local\\Packages\\PythonSoftwareFoundation.Python.3.11_qbz5n2kfra8p0\\LocalCache\\local-packages\\Python311\\site-packages\\pandas\\core\\generic.py:4095\u001b[0m, in \u001b[0;36mNDFrame.xs\u001b[1;34m(self, key, axis, level, drop_level)\u001b[0m\n\u001b[0;32m   4093\u001b[0m             new_index \u001b[39m=\u001b[39m index[loc]\n\u001b[0;32m   4094\u001b[0m \u001b[39melse\u001b[39;00m:\n\u001b[1;32m-> 4095\u001b[0m     loc \u001b[39m=\u001b[39m index\u001b[39m.\u001b[39;49mget_loc(key)\n\u001b[0;32m   4097\u001b[0m     \u001b[39mif\u001b[39;00m \u001b[39misinstance\u001b[39m(loc, np\u001b[39m.\u001b[39mndarray):\n\u001b[0;32m   4098\u001b[0m         \u001b[39mif\u001b[39;00m loc\u001b[39m.\u001b[39mdtype \u001b[39m==\u001b[39m np\u001b[39m.\u001b[39mbool_:\n",
      "File \u001b[1;32m~\\AppData\\Local\\Packages\\PythonSoftwareFoundation.Python.3.11_qbz5n2kfra8p0\\LocalCache\\local-packages\\Python311\\site-packages\\pandas\\core\\indexes\\base.py:3655\u001b[0m, in \u001b[0;36mIndex.get_loc\u001b[1;34m(self, key)\u001b[0m\n\u001b[0;32m   3653\u001b[0m     \u001b[39mreturn\u001b[39;00m \u001b[39mself\u001b[39m\u001b[39m.\u001b[39m_engine\u001b[39m.\u001b[39mget_loc(casted_key)\n\u001b[0;32m   3654\u001b[0m \u001b[39mexcept\u001b[39;00m \u001b[39mKeyError\u001b[39;00m \u001b[39mas\u001b[39;00m err:\n\u001b[1;32m-> 3655\u001b[0m     \u001b[39mraise\u001b[39;00m \u001b[39mKeyError\u001b[39;00m(key) \u001b[39mfrom\u001b[39;00m \u001b[39merr\u001b[39;00m\n\u001b[0;32m   3656\u001b[0m \u001b[39mexcept\u001b[39;00m \u001b[39mTypeError\u001b[39;00m:\n\u001b[0;32m   3657\u001b[0m     \u001b[39m# If we have a listlike key, _check_indexing_error will raise\u001b[39;00m\n\u001b[0;32m   3658\u001b[0m     \u001b[39m#  InvalidIndexError. Otherwise we fall through and re-raise\u001b[39;00m\n\u001b[0;32m   3659\u001b[0m     \u001b[39m#  the TypeError.\u001b[39;00m\n\u001b[0;32m   3660\u001b[0m     \u001b[39mself\u001b[39m\u001b[39m.\u001b[39m_check_indexing_error(key)\n",
      "\u001b[1;31mKeyError\u001b[0m: 0"
     ]
    }
   ],
   "source": [
    "data = pd.read_csv('cancer_data.csv')\n",
    "# data = np.transpose(data)\n",
    "np_data = data.to_numpy()\n",
    "print(np_data.shape[0])\n",
    "for i in range(np_data.shape[1]):\n",
    "    # print(data.loc[i])\n",
    "    print(np_data)\n",
    "    # print(((data[i]-min(data[i]))/(max(data[i]) - min(data[i]))).shape)\n",
    "    # print(data)"
   ]
  },
  {
   "cell_type": "code",
   "execution_count": 97,
   "metadata": {},
   "outputs": [
    {
     "name": "stdout",
     "output_type": "stream",
     "text": [
      "(10, 3046)\n",
      "10\n",
      "1397         604.171890\n",
      "469          185.176957\n",
      "489.8        446.844404\n",
      "61898      46900.944328\n",
      "260131    102209.049460\n",
      "11.2          16.825049\n",
      "39.3          45.127119\n",
      "36.9          39.427218\n",
      "41.7          41.995373\n",
      "164.9        178.110351\n",
      "dtype: float64\n",
      "            0         1         2         3         4         5         6     \\\n",
      "1397    0.003209  0.001772  0.005403  0.000891  0.006760  0.005466  0.003191   \n",
      "469     0.001068  0.000718  0.002437  0.000270  0.002236  0.001779  0.001324   \n",
      "489.8   0.008169  0.006793  0.005448  0.006760  0.008029  0.010571  0.009614   \n",
      "61898   1.000000  1.000000  0.582956  1.000000  0.857230  0.910008  1.000000   \n",
      "260131  0.899020  0.425906  1.000000  0.206407  1.000000  1.000000  0.518536   \n",
      "11.2    0.000000  0.000000  0.000000  0.000000  0.000000  0.000000  0.000000   \n",
      "39.3    0.000299  0.000616  0.000339  0.000717  0.000488  0.000468  0.000844   \n",
      "36.9    0.000283  0.000596  0.000331  0.000707  0.000457  0.000458  0.000821   \n",
      "41.7    0.000314  0.000632  0.000347  0.000729  0.000531  0.000489  0.000864   \n",
      "164.9   0.002966  0.003245  0.002342  0.002641  0.002629  0.003680  0.004127   \n",
      "\n",
      "            7         8         9     ...          3036           3037  \\\n",
      "1397    0.001544  0.004754  0.001833  ...   1962.667684    1962.667684   \n",
      "469     0.000322  0.001620  0.000426  ...     16.000000     138.000000   \n",
      "489.8   0.010271  0.000590  0.007322  ...    453.549422     453.549422   \n",
      "61898   1.000000  0.071550  1.000000  ...  47599.000000   49246.000000   \n",
      "260131  0.307019  1.000000  0.296834  ...   7797.000000  118053.000000   \n",
      "11.2    0.000000  0.000000  0.000000  ...     15.000000      19.400000   \n",
      "39.3    0.000634  0.000027  0.000762  ...     38.800000      28.800000   \n",
      "36.9    0.000613  0.000026  0.000755  ...     37.300000      28.000000   \n",
      "41.7    0.000646  0.000028  0.000766  ...     40.500000      29.700000   \n",
      "164.9   0.003952  0.000195  0.001987  ...    160.300000     153.700000   \n",
      "\n",
      "                3038          3039          3040          3041          3042  \\\n",
      "1397     1962.667684   1962.667684   1962.667684   1962.667684   1962.667684   \n",
      "469         9.000000     12.000000     48.000000     15.000000     43.000000   \n",
      "489.8     453.549422    453.549422    453.549422    453.549422    453.549422   \n",
      "61898   49256.000000  36471.000000  49508.000000  46961.000000  48609.000000   \n",
      "260131   2968.000000   2605.000000  29029.000000   6343.000000  37118.000000   \n",
      "11.2       10.500000     17.400000     13.000000     12.400000     18.800000   \n",
      "39.3       45.200000     50.400000     32.200000     44.200000     30.400000   \n",
      "36.9       45.200000     49.100000     31.000000     41.100000     29.300000   \n",
      "41.7       45.300000     52.200000     33.800000     48.800000     31.400000   \n",
      "164.9     208.300000    215.900000    146.400000    149.600000    150.100000   \n",
      "\n",
      "                3043          3044          3045  \n",
      "1397     1962.667684   1962.667684   1962.667684  \n",
      "469        46.000000     52.000000     48.000000  \n",
      "489.8     453.549422    453.549422    453.549422  \n",
      "61898   51144.000000  50745.000000  41193.000000  \n",
      "260131  34536.000000  25609.000000  37030.000000  \n",
      "11.2       15.000000     13.300000     13.900000  \n",
      "39.3       30.900000     39.000000     26.200000  \n",
      "36.9       30.500000     36.900000     25.500000  \n",
      "41.7       31.200000     40.500000     27.000000  \n",
      "164.9     153.900000    175.000000    213.600000  \n",
      "\n",
      "[10 rows x 3046 columns]\n"
     ]
    }
   ],
   "source": [
    "#normalization\n",
    "# why do it ? - we normalize the data so that if the data has anomalies like one big attribute inside a small poll of other attributes .\n",
    "# we will detect it and fix the data so the results will be more relaible. \n",
    "normalized_data = pd.DataFrame(data)\n",
    "print(normalized_data.shape)\n",
    "print(data.loc[:,0].shape[0])\n",
    "for i in range(data.shape[0]):\n",
    "    normalized_data.loc[:,i]= ( data.loc[:,i] - min(data.loc[:, i])) / (max(data.loc[:, i]) - min(data.loc[:, i]))\n",
    "print(np.mean(normalized_data,axis=1))\n",
    "\n",
    "print(normalized_data)\n"
   ]
  },
  {
   "cell_type": "code",
   "execution_count": null,
   "metadata": {},
   "outputs": [],
   "source": [
    "def h(X, theta):\n",
    "    X_temp = X.reshape(X.shape[1],X.shape[1])\n",
    "    temp_theta = theta.reshape(theta.size,1)\n",
    "    return X_temp @ temp_theta"
   ]
  },
  {
   "cell_type": "code",
   "execution_count": null,
   "metadata": {},
   "outputs": [],
   "source": [
    "def J(x, y, theta):\n",
    "    returned_value = 0\n",
    "    for i in x.shape[0]:\n",
    "        returned_value = returned_value + (np.power((h(x[i], theta)-y[i]), 2)/(2*x.shape[0]))\n",
    "    return returned_value"
   ]
  }
 ],
 "metadata": {
  "kernelspec": {
   "display_name": "Python 3",
   "language": "python",
   "name": "python3"
  },
  "language_info": {
   "codemirror_mode": {
    "name": "ipython",
    "version": 3
   },
   "file_extension": ".py",
   "mimetype": "text/x-python",
   "name": "python",
   "nbconvert_exporter": "python",
   "pygments_lexer": "ipython3",
   "version": "3.11.4"
  },
  "orig_nbformat": 4
 },
 "nbformat": 4,
 "nbformat_minor": 2
}
